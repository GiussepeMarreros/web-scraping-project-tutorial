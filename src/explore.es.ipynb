{
    "cells": [
        {
            "cell_type": "markdown",
            "metadata": {},
            "source": [
                "# Explora aquí\n",
                "\n",
                "Se recomienda utilizar este cuaderno con fines de exploración."
            ]
        },
        {
            "cell_type": "code",
            "execution_count": 64,
            "metadata": {},
            "outputs": [],
            "source": [
                "import os\n",
                "from bs4 import BeautifulSoup\n",
                "import requests\n",
                "import time\n",
                "import sqlite3\n",
                "import matplotlib.pyplot as plt\n",
                "import seaborn as sns\n",
                "import pandas as pd\n",
                "\n"
            ]
        },
        {
            "cell_type": "code",
            "execution_count": 65,
            "metadata": {},
            "outputs": [],
            "source": [
                "url = \"https://companies-market-cap-copy.vercel.app/index.html\""
            ]
        },
        {
            "cell_type": "code",
            "execution_count": 66,
            "metadata": {},
            "outputs": [],
            "source": [
                "response = requests.get(url, time.sleep(10))"
            ]
        },
        {
            "cell_type": "code",
            "execution_count": 67,
            "metadata": {},
            "outputs": [
                {
                    "data": {
                        "text/plain": [
                            "<Response [200]>"
                        ]
                    },
                    "execution_count": 67,
                    "metadata": {},
                    "output_type": "execute_result"
                }
            ],
            "source": [
                "response"
            ]
        },
        {
            "cell_type": "code",
            "execution_count": 68,
            "metadata": {},
            "outputs": [],
            "source": [
                "if response:\n",
                "    soup = BeautifulSoup(response.text, 'html')\n",
                "    soup"
            ]
        },
        {
            "cell_type": "code",
            "execution_count": 69,
            "metadata": {},
            "outputs": [
                {
                    "data": {
                        "text/plain": [
                            "<table class=\"table\" style=\"width:100%\">\n",
                            "<thead>\n",
                            "<tr>\n",
                            "<th>Year</th>\n",
                            "<th>Revenue</th>\n",
                            "<th>Change</th>\n",
                            "</tr>\n",
                            "</thead>\n",
                            "<tbody>\n",
                            "<tr><td><span class=\"year\">2024</span></td><td>$97.15 B</td><td class=\"percentage-green\">0.39%</td></tr><tr><td><span class=\"year\">2023</span> </td><td>$96.77 B</td><td class=\"percentage-green\">18.8%</td></tr><tr><td><span class=\"year\">2022</span></td><td>$81.46 B</td><td class=\"percentage-green\">51.35%</td></tr><tr><td><span class=\"year\">2021</span></td><td>$53.82 B</td><td class=\"percentage-green\">70.67%</td></tr><tr><td><span class=\"year\">2020</span></td><td>$31.53 B</td><td class=\"percentage-green\">28.31%</td></tr><tr><td><span class=\"year\">2019</span></td><td>$24.57 B</td><td class=\"percentage-green\">14.52%</td></tr><tr><td><span class=\"year\">2018</span></td><td>$21.46 B</td><td class=\"percentage-green\">82.51%</td></tr><tr><td><span class=\"year\">2017</span></td><td>$11.75 B</td><td class=\"percentage-green\">67.98%</td></tr><tr><td><span class=\"year\">2016</span></td><td>$7.00 B</td><td class=\"percentage-green\">73.01%</td></tr><tr><td><span class=\"year\">2015</span></td><td>$4.04 B</td><td class=\"percentage-green\">26.5%</td></tr><tr><td><span class=\"year\">2014</span></td><td>$3.19 B</td><td class=\"percentage-green\">58.85%</td></tr><tr><td><span class=\"year\">2013</span></td><td>$2.01 B</td><td class=\"percentage-green\">387.23%</td></tr><tr><td><span class=\"year\">2012</span></td><td>$0.41 B</td><td class=\"percentage-green\">102.34%</td></tr><tr><td><span class=\"year\">2011</span></td><td>$0.20 B</td><td class=\"percentage-green\">74.95%</td></tr><tr><td><span class=\"year\">2010</span></td><td>$0.11 B</td><td class=\"percentage-green\">4.29%</td></tr><tr><td><span class=\"year\">2009</span> </td><td>$0.11 B</td><td></td></tr> </tbody>\n",
                            "</table>"
                        ]
                    },
                    "execution_count": 69,
                    "metadata": {},
                    "output_type": "execute_result"
                }
            ],
            "source": [
                "table =  soup.find(\"table\")\n",
                "table"
            ]
        },
        {
            "cell_type": "code",
            "execution_count": 70,
            "metadata": {},
            "outputs": [],
            "source": [
                "rows = table.find_all(\"tr\")"
            ]
        },
        {
            "cell_type": "code",
            "execution_count": 71,
            "metadata": {},
            "outputs": [
                {
                    "data": {
                        "text/plain": [
                            "[['2024', '$97.15 B'],\n",
                            " ['2023', '$96.77 B'],\n",
                            " ['2022', '$81.46 B'],\n",
                            " ['2021', '$53.82 B'],\n",
                            " ['2020', '$31.53 B'],\n",
                            " ['2019', '$24.57 B'],\n",
                            " ['2018', '$21.46 B'],\n",
                            " ['2017', '$11.75 B'],\n",
                            " ['2016', '$7.00 B'],\n",
                            " ['2015', '$4.04 B'],\n",
                            " ['2014', '$3.19 B'],\n",
                            " ['2013', '$2.01 B'],\n",
                            " ['2012', '$0.41 B'],\n",
                            " ['2011', '$0.20 B'],\n",
                            " ['2010', '$0.11 B'],\n",
                            " ['2009', '$0.11 B']]"
                        ]
                    },
                    "execution_count": 71,
                    "metadata": {},
                    "output_type": "execute_result"
                }
            ],
            "source": [
                "data = []\n",
                "for row in rows[1:]:\n",
                "    cols = row.find_all(\"td\")\n",
                "    fecha = cols[0].text.strip()\n",
                "    ingresos = cols[1].text.strip()\n",
                "    data.append([fecha,ingresos])\n",
                "    \n",
                "data"
            ]
        },
        {
            "cell_type": "code",
            "execution_count": 72,
            "metadata": {},
            "outputs": [
                {
                    "data": {
                        "text/html": [
                            "<div>\n",
                            "<style scoped>\n",
                            "    .dataframe tbody tr th:only-of-type {\n",
                            "        vertical-align: middle;\n",
                            "    }\n",
                            "\n",
                            "    .dataframe tbody tr th {\n",
                            "        vertical-align: top;\n",
                            "    }\n",
                            "\n",
                            "    .dataframe thead th {\n",
                            "        text-align: right;\n",
                            "    }\n",
                            "</style>\n",
                            "<table border=\"1\" class=\"dataframe\">\n",
                            "  <thead>\n",
                            "    <tr style=\"text-align: right;\">\n",
                            "      <th></th>\n",
                            "      <th>Fecha</th>\n",
                            "      <th>Ingresos</th>\n",
                            "    </tr>\n",
                            "  </thead>\n",
                            "  <tbody>\n",
                            "    <tr>\n",
                            "      <th>15</th>\n",
                            "      <td>2009</td>\n",
                            "      <td>$0.11 B</td>\n",
                            "    </tr>\n",
                            "    <tr>\n",
                            "      <th>14</th>\n",
                            "      <td>2010</td>\n",
                            "      <td>$0.11 B</td>\n",
                            "    </tr>\n",
                            "    <tr>\n",
                            "      <th>13</th>\n",
                            "      <td>2011</td>\n",
                            "      <td>$0.20 B</td>\n",
                            "    </tr>\n",
                            "    <tr>\n",
                            "      <th>12</th>\n",
                            "      <td>2012</td>\n",
                            "      <td>$0.41 B</td>\n",
                            "    </tr>\n",
                            "    <tr>\n",
                            "      <th>11</th>\n",
                            "      <td>2013</td>\n",
                            "      <td>$2.01 B</td>\n",
                            "    </tr>\n",
                            "    <tr>\n",
                            "      <th>10</th>\n",
                            "      <td>2014</td>\n",
                            "      <td>$3.19 B</td>\n",
                            "    </tr>\n",
                            "    <tr>\n",
                            "      <th>9</th>\n",
                            "      <td>2015</td>\n",
                            "      <td>$4.04 B</td>\n",
                            "    </tr>\n",
                            "    <tr>\n",
                            "      <th>8</th>\n",
                            "      <td>2016</td>\n",
                            "      <td>$7.00 B</td>\n",
                            "    </tr>\n",
                            "    <tr>\n",
                            "      <th>7</th>\n",
                            "      <td>2017</td>\n",
                            "      <td>$11.75 B</td>\n",
                            "    </tr>\n",
                            "    <tr>\n",
                            "      <th>6</th>\n",
                            "      <td>2018</td>\n",
                            "      <td>$21.46 B</td>\n",
                            "    </tr>\n",
                            "    <tr>\n",
                            "      <th>5</th>\n",
                            "      <td>2019</td>\n",
                            "      <td>$24.57 B</td>\n",
                            "    </tr>\n",
                            "    <tr>\n",
                            "      <th>4</th>\n",
                            "      <td>2020</td>\n",
                            "      <td>$31.53 B</td>\n",
                            "    </tr>\n",
                            "    <tr>\n",
                            "      <th>3</th>\n",
                            "      <td>2021</td>\n",
                            "      <td>$53.82 B</td>\n",
                            "    </tr>\n",
                            "    <tr>\n",
                            "      <th>2</th>\n",
                            "      <td>2022</td>\n",
                            "      <td>$81.46 B</td>\n",
                            "    </tr>\n",
                            "    <tr>\n",
                            "      <th>1</th>\n",
                            "      <td>2023</td>\n",
                            "      <td>$96.77 B</td>\n",
                            "    </tr>\n",
                            "    <tr>\n",
                            "      <th>0</th>\n",
                            "      <td>2024</td>\n",
                            "      <td>$97.15 B</td>\n",
                            "    </tr>\n",
                            "  </tbody>\n",
                            "</table>\n",
                            "</div>"
                        ],
                        "text/plain": [
                            "   Fecha  Ingresos\n",
                            "15  2009   $0.11 B\n",
                            "14  2010   $0.11 B\n",
                            "13  2011   $0.20 B\n",
                            "12  2012   $0.41 B\n",
                            "11  2013   $2.01 B\n",
                            "10  2014   $3.19 B\n",
                            "9   2015   $4.04 B\n",
                            "8   2016   $7.00 B\n",
                            "7   2017  $11.75 B\n",
                            "6   2018  $21.46 B\n",
                            "5   2019  $24.57 B\n",
                            "4   2020  $31.53 B\n",
                            "3   2021  $53.82 B\n",
                            "2   2022  $81.46 B\n",
                            "1   2023  $96.77 B\n",
                            "0   2024  $97.15 B"
                        ]
                    },
                    "execution_count": 72,
                    "metadata": {},
                    "output_type": "execute_result"
                }
            ],
            "source": [
                "df = pd.DataFrame(data, columns=['Fecha', 'Ingresos'])\n",
                "df = df.sort_values('Fecha')\n",
                "df"
            ]
        },
        {
            "cell_type": "code",
            "execution_count": 73,
            "metadata": {},
            "outputs": [
                {
                    "data": {
                        "text/plain": [
                            "15     0.11\n",
                            "14     0.11\n",
                            "13     0.20\n",
                            "12     0.41\n",
                            "11     2.01\n",
                            "10     3.19\n",
                            "9      4.04\n",
                            "8      7.00\n",
                            "7     11.75\n",
                            "6     21.46\n",
                            "5     24.57\n",
                            "4     31.53\n",
                            "3     53.82\n",
                            "2     81.46\n",
                            "1     96.77\n",
                            "0     97.15\n",
                            "Name: Ingresos, dtype: float64"
                        ]
                    },
                    "execution_count": 73,
                    "metadata": {},
                    "output_type": "execute_result"
                }
            ],
            "source": [
                "def conv_ing(valor):\n",
                "    if 'B' in valor:\n",
                "        edit_value = float(valor.replace('B','').replace('$','').replace(',',''))\n",
                "        return edit_value\n",
                "    \n",
                "df['Ingresos'] = df['Ingresos'].apply(conv_ing)\n",
                "\n",
                "df['Ingresos']"
            ]
        },
        {
            "cell_type": "code",
            "execution_count": 74,
            "metadata": {},
            "outputs": [],
            "source": [
                "conn = sqlite3.connect('tesla_revenues.db')\n",
                "cursor = conn.cursor()"
            ]
        },
        {
            "cell_type": "code",
            "execution_count": 75,
            "metadata": {},
            "outputs": [
                {
                    "data": {
                        "text/plain": [
                            "<sqlite3.Cursor at 0x792d89cc68c0>"
                        ]
                    },
                    "execution_count": 75,
                    "metadata": {},
                    "output_type": "execute_result"
                }
            ],
            "source": [
                "cursor.execute(\"\"\"\n",
                "CREATE TABLE IF NOT EXISTS ingresos (\n",
                "    fecha TEXT,\n",
                "    ingresos REAL\n",
                ")\n",
                "\"\"\")"
            ]
        },
        {
            "cell_type": "code",
            "execution_count": 76,
            "metadata": {},
            "outputs": [],
            "source": [
                "\n",
                "for index, row in df.iterrows():\n",
                "    cursor.execute(\"INSERT INTO ingresos (fecha, ingresos) VALUES (?, ?)\", (row[\"Fecha\"], row[\"Ingresos\"]))\n",
                "\n",
                "conn.commit()\n",
                "conn.close()"
            ]
        },
        {
            "cell_type": "code",
            "execution_count": 77,
            "metadata": {},
            "outputs": [
                {
                    "data": {
                        "image/png": "[encoded data removed]",
                        "text/plain": [
                            "<Figure size 1000x600 with 1 Axes>"
                        ]
                    },
                    "metadata": {},
                    "output_type": "display_data"
                }
            ],
            "source": [
                "# VISUALIZACION\n",
                "\n",
                "plt.figure(figsize= (10, 6))\n",
                "plt.plot(df['Fecha'], df['Ingresos'], marker='o', label='Ingresos')\n",
                "plt.title('Ingresos Anuales de Tesla')\n",
                "plt.xlabel('Fecha')\n",
                "plt.ylabel('Ingresos (billones de $)')\n",
                "plt.legend\n",
                "plt.grid(True)\n",
                "plt.savefig('revenue.png')\n",
                "plt.show()\n"
            ]
        },
        {
            "cell_type": "markdown",
            "metadata": {},
            "source": [
                "EXTRA"
            ]
        },
        {
            "cell_type": "code",
            "execution_count": 92,
            "metadata": {},
            "outputs": [
                {
                    "name": "stdout",
                    "output_type": "stream",
                    "text": [
                        "Tesla ha generado $8,730,000,000.00 de ganancias en el año 2024.\n"
                    ]
                }
            ],
            "source": [
                "url = \"https://companies-market-cap-copy.vercel.app/earnings.html\"\n",
                "\n",
                "\n",
                "response = requests.get(url)\n",
                "response.raise_for_status() \n",
                "html = BeautifulSoup(response.text, \"html.parser\")\n",
                "table = html.find(\"table\", {\"class\": \"table\"}) \n",
                "rows = table.find_all(\"tr\")[1:] \n",
                "\n",
                "\n",
                "data = []\n",
                "for row in rows:\n",
                "    columns = row.find_all(\"td\")\n",
                "    year = columns[0].text.strip() \n",
                "    earnings = columns[1].text.strip()  \n",
                "    data.append({\"Año\": year, \"Ganancias\": earnings})\n",
                "\n",
                "\n",
                "df = pd.DataFrame(data)\n",
                "\n",
                "\n",
                "def parse_earnings(value):\n",
                "    try:\n",
                "        value = value.replace(\",\", \"\").replace(\"$\", \"\").strip()\n",
                "        if \"Billion\" in value: \n",
                "            return float(value.replace(\"Billion\", \"\")) * 1_000_000_000\n",
                "        elif \"Million\" in value:\n",
                "            return float(value.replace(\"Million\", \"\")) * 1_000_000_000\n",
                "        elif \"M\" in value:  \n",
                "            return float(value.replace(\"M\", \"\")) * 1_000_000\n",
                "        elif \"B\" in value:\n",
                "            return float(value.replace(\"B\", \"\")) * 1_000_000_000\n",
                "        else:\n",
                "            return float(value)\n",
                "    except ValueError:\n",
                "        print(f\"Advertencia: No se pudo convertir el valor '{value}'. Estableciendo como NaN.\")\n",
                "        return float(\"nan\") \n",
                "\n",
                "\n",
                "def clean_year(value):\n",
                "    try:\n",
                "        return int(value.split()[0]) \n",
                "    except ValueError:\n",
                "        print(f\"Advertencia: No se pudo procesar el valor del año '{value}'. Estableciendo como NaN.\")\n",
                "        return float(\"nan\")  \n",
                "\n",
                "df[\"Ganancias\"] = df[\"Ganancias\"].apply(parse_earnings)\n",
                "df[\"Año\"] = df[\"Año\"].apply(clean_year)\n",
                "df = df.sort_values(\"Año\", ascending=False)\n",
                "\n",
                "\n",
                "ultimo_ano_fila = df.iloc[0]  \n",
                "ultimo_ano = int(ultimo_ano_fila[\"Año\"])\n",
                "mensaje = f\"Tesla ha generado ${ultimo_ano_fila['Ganancias']:,.2f} de ganancias en el año {ultimo_ano}.\"\n",
                "\n",
                "\n",
                "print(mensaje)"
            ]
        }
    ],
    "metadata": {
        "kernelspec": {
            "display_name": "Python 3",
            "language": "python",
            "name": "python3"
        },
        "language_info": {
            "codemirror_mode": {
                "name": "ipython",
                "version": 3
            },
            "file_extension": ".py",
            "mimetype": "text/x-python",
            "name": "python",
            "nbconvert_exporter": "python",
            "pygments_lexer": "ipython3",
            "version": "3.11.4"
        },
        "orig_nbformat": 4
    },
    "nbformat": 4,
    "nbformat_minor": 2
}
